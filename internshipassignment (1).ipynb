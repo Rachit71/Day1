{
 "cells": [
  {
   "cell_type": "markdown",
   "id": "7eaa3efd-012b-4736-a576-4666c41a03d8",
   "metadata": {},
   "source": [
    "##\n",
    "Q1 Write a Python program that prints \"Hello, World!\" to the console."
   ]
  },
  {
   "cell_type": "code",
   "execution_count": 1,
   "id": "5d3f3abe-04f1-45b5-8c56-8b57897d6b31",
   "metadata": {},
   "outputs": [
    {
     "name": "stdout",
     "output_type": "stream",
     "text": [
      "Hello,World!\n"
     ]
    }
   ],
   "source": [
    "print(\"Hello,World!\")"
   ]
  },
  {
   "cell_type": "markdown",
   "id": "04b22079-a8e7-48a4-a7ce-ddbc0d4276d6",
   "metadata": {},
   "source": [
    "##\n",
    "Q2. Create variables to store your name, age, and favorite hobby. Print these variables.\n",
    "Q3 Add comments to your code explaining what each line does."
   ]
  },
  {
   "cell_type": "code",
   "execution_count": 2,
   "id": "1a1c983d-6f45-43aa-9af0-d2c8c6fa16fe",
   "metadata": {},
   "outputs": [
    {
     "name": "stdout",
     "output_type": "stream",
     "text": [
      "Rachit vyas\n",
      "18\n",
      "Coding , Reading\n"
     ]
    }
   ],
   "source": [
    "Name = \"Rachit vyas\" ##In this I create a variable   Name and give a string value to them \"Rachit vyas \"\n",
    "Age = 18  ##In this I create a variable  Age \n",
    "fav_hobby = \"Coding , Reading\"\n",
    "print(Name)\n",
    "print(Age)\n",
    "print(fav_hobby)"
   ]
  },
  {
   "cell_type": "markdown",
   "id": "fa28c81f-743f-496f-9e71-51e37c6a8cc4",
   "metadata": {},
   "source": [
    "##\n",
    "Q4. Write a Python program that takes an integer input from the user and prints whether the number is\n",
    "positive, negative, or zero."
   ]
  },
  {
   "cell_type": "code",
   "execution_count": null,
   "id": "dcb78046-fb5e-4aa0-b32a-0b7e076ac777",
   "metadata": {},
   "outputs": [],
   "source": [
    "user = int(input(\"Enter the number :\"))\n",
    "if user == 0:\n",
    "    print(user,\"This is a zero  \")\n",
    "elif user<0 :\n",
    "    print(user,\"This is a negative number  \")\n",
    "else:\n",
    "    print(\"This is a positive number \")"
   ]
  },
  {
   "cell_type": "markdown",
   "id": "4a58a980-604f-4ae2-894e-2e114d1aecaf",
   "metadata": {},
   "source": [
    "##\n",
    "Q5. Create a program that checks if a given year is a leap year."
   ]
  },
  {
   "cell_type": "code",
   "execution_count": null,
   "id": "89dfe523-3edc-4162-a040-3f77ddc551ba",
   "metadata": {},
   "outputs": [],
   "source": [
    "leap_year = int(input(\"Enter the year :\"))\n",
    "if(leap_year%4==0):\n",
    "    print(leap_year,\"is leap year \")\n",
    "else:\n",
    "     print(leap_year,\"is not leap year \")"
   ]
  },
  {
   "cell_type": "markdown",
   "id": "215916fa-fcb1-49a8-b8d3-28915c547c21",
   "metadata": {},
   "source": [
    "##\n",
    "Q6 . Write a Python program to print the first 10 natural numbers using a for loop."
   ]
  },
  {
   "cell_type": "code",
   "execution_count": null,
   "id": "6c0957c1-e8be-4d39-9d98-39817e53c511",
   "metadata": {},
   "outputs": [],
   "source": [
    "for i in range(1,11):\n",
    "print(i)"
   ]
  },
  {
   "cell_type": "markdown",
   "id": "46591a14-850f-4e55-81c0-8a38dbc97485",
   "metadata": {},
   "source": [
    "##\n",
    "Q7 Create a program that prints the multiplication table of a given number using a while loop."
   ]
  },
  {
   "cell_type": "code",
   "execution_count": null,
   "id": "e7e52d43-30a8-4fda-9824-6340d66b27a9",
   "metadata": {},
   "outputs": [],
   "source": [
    "number = int(input(\"Enter a number to print its multiplication table: \"))  \n",
    "multiplier = 1  \n",
    "while multiplier <= 10:  \n",
    "    result = number * multiplier  \n",
    "    print(f\"{number} x {multiplier} = {result}\")  \n",
    "    multiplier += 1"
   ]
  },
  {
   "cell_type": "markdown",
   "id": "6ab19556-6afc-458f-b88b-9b6e93c4efa3",
   "metadata": {},
   "source": [
    "##\n",
    "Q8 . Write a Python program that iterates through numbers 1 to 10 and prints each number. Use the\n",
    "continue statement to skip numbers that are divisible by 3."
   ]
  },
  {
   "cell_type": "code",
   "execution_count": null,
   "id": "27f52639-9155-4718-9e92-489e36d9159d",
   "metadata": {},
   "outputs": [],
   "source": [
    "for num in range(1, 11):  \n",
    "    if num % 3 == 0:  \n",
    "        continue  \n",
    "    print(num)  "
   ]
  },
  {
   "cell_type": "markdown",
   "id": "492a63fe-e019-4f33-82fa-b510d0c5d1df",
   "metadata": {},
   "source": [
    "##\n",
    "Q9 Create a program that stops printing numbers when it encounters a number greater than 5 using the\n",
    "break statement."
   ]
  },
  {
   "cell_type": "code",
   "execution_count": null,
   "id": "1d59deb2-1322-405b-b27b-bca722a32a60",
   "metadata": {},
   "outputs": [],
   "source": [
    "for number in range(1, 11):\n",
    "    if number > 5:  \n",
    "        break \n",
    "    print(number)"
   ]
  },
  {
   "cell_type": "markdown",
   "id": "cf6e6aab-83aa-496e-ad80-feb636444274",
   "metadata": {},
   "source": [
    "##\n",
    "Q10 Define a function called greet that takes a name as an argument and prints \"Hello, [name]!\"."
   ]
  },
  {
   "cell_type": "code",
   "execution_count": null,
   "id": "9fb7bd00-1f83-4a1f-8c2b-d518440f3715",
   "metadata": {},
   "outputs": [],
   "source": [
    "def greet(name):  \n",
    "    print(f\"Hello, {name}!\")   \n",
    "\n",
    "greet(\"Rachit vyas\")"
   ]
  },
  {
   "cell_type": "markdown",
   "id": "0fad0593-3d5b-4bac-b84e-31778a424b31",
   "metadata": {},
   "source": [
    "##\n",
    "Q11. Create a function that takes two numbers as arguments and returns their sum."
   ]
  },
  {
   "cell_type": "code",
   "execution_count": null,
   "id": "391615ba-87b8-401d-941f-c600459dfdaf",
   "metadata": {},
   "outputs": [],
   "source": [
    "def add_numbers(num1, num2):  \n",
    "    return num1 + num2\n",
    "    result = add_numbers(10, 5)\n",
    "print(result) "
   ]
  }
 ],
 "metadata": {
  "kernelspec": {
   "display_name": "Python 3 (ipykernel)",
   "language": "python",
   "name": "python3"
  },
  "language_info": {
   "codemirror_mode": {
    "name": "ipython",
    "version": 3
   },
   "file_extension": ".py",
   "mimetype": "text/x-python",
   "name": "python",
   "nbconvert_exporter": "python",
   "pygments_lexer": "ipython3",
   "version": "3.12.1"
  }
 },
 "nbformat": 4,
 "nbformat_minor": 5
}
